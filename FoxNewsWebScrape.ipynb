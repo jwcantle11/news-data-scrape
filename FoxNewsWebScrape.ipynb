{
 "cells": [
  {
   "cell_type": "code",
   "execution_count": 53,
   "metadata": {},
   "outputs": [],
   "source": [
    "from bs4 import BeautifulSoup\n",
    "import requests\n",
    "import re\n",
    "import pandas as pd\n",
    "\n",
    "import selenium\n",
    "from selenium import webdriver\n",
    "from selenium.webdriver.common.keys import Keys\n",
    "from selenium.webdriver.common.by import By"
   ]
  },
  {
   "cell_type": "code",
   "execution_count": 54,
   "metadata": {},
   "outputs": [],
   "source": [
    "html_doc = requests.get('https://www.foxnews.com/politics')\n",
    "soup = BeautifulSoup(html_doc.text, 'html.parser')"
   ]
  },
  {
   "cell_type": "code",
   "execution_count": 58,
   "metadata": {},
   "outputs": [],
   "source": [
    "chrome_path = \"./chromedriver\"\n",
    "options = webdriver.ChromeOptions()\n",
    "#options.add_argument('--load-extension=./adblock4Sellenium/3.34.0_0')\n",
    "#options.add_experimental_option( \"prefs\",{'profile.managed_default_content_settings.javascript': 2})\n",
    "# options.add_argument(\"--user-agent=\" + 'Mozilla/5.0 (Windows NT 10.0; Win64; x64) AppleWebKit/537.36 (KHTML, like Gecko) Chrome/58.0.3029.110 Safari/537.36')\n",
    "driver = webdriver.Chrome(chrome_path, options=options)"
   ]
  },
  {
   "cell_type": "code",
   "execution_count": 45,
   "metadata": {},
   "outputs": [
    {
     "name": "stdout",
     "output_type": "stream",
     "text": [
      "None\n",
      "None\n",
      "None\n",
      "None\n",
      "None\n"
     ]
    }
   ],
   "source": [
    "\n",
    "\n",
    "articleList = soup.find('section', {'class': \"collection collection-article-list has-load-more\"})\n",
    "articles = articleList.findAll('article')\n",
    "#TODO click on see more\n",
    "for article in articles:\n",
    "    linkHTML = article.find('a')\n",
    "    articleTime = article.find('span', {'class': 'time'}).text\n",
    "    #TODO: if 'day'in articleTime or 'days' in articleTime\n",
    "    link = linkHTML['href']\n",
    "\n",
    "    if 'politics' in link:\n",
    "        htmlArticle = requests.get('https://www.foxnews.com/' + link)\n",
    "        soupArticle = BeautifulSoup(htmlArticle.text, 'html.parser')\n",
    "        header = soupArticle.find('header', {'class': 'article-header'})\n",
    "        title = header.find('h1').text\n",
    "        commentCount = soupArticle.find('span', {'class': 'param-0 param-messagesCount'})\n",
    "        print(commentCount)"
   ]
  },
  {
   "cell_type": "code",
   "execution_count": null,
   "metadata": {},
   "outputs": [],
   "source": []
  }
 ],
 "metadata": {
  "kernelspec": {
   "display_name": "Python 3",
   "language": "python",
   "name": "python3"
  },
  "language_info": {
   "codemirror_mode": {
    "name": "ipython",
    "version": 3
   },
   "file_extension": ".py",
   "mimetype": "text/x-python",
   "name": "python",
   "nbconvert_exporter": "python",
   "pygments_lexer": "ipython3",
   "version": "3.7.0"
  }
 },
 "nbformat": 4,
 "nbformat_minor": 2
}
