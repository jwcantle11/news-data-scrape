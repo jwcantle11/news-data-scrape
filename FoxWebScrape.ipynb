{
 "cells": [
  {
   "cell_type": "code",
<<<<<<< Updated upstream
=======
   "execution_count": 1,
   "metadata": {},
   "outputs": [],
   "source": [
    "import requests\n",
    "# Imports regular expressions package \n",
    "import re\n",
    "# Imports csv package to create csv files \n",
    "import csv\n",
    "# Import BeautifulSoup to parse HTML\n",
    "from bs4 import BeautifulSoup\n"
   ]
  },
  {
   "cell_type": "code",
   "execution_count": 145,
   "metadata": {},
   "outputs": [],
   "source": [
    "\n",
    "# Request webpage information\n",
    "r = requests.get('https://www.foxnews.com/politics')\n",
    "soup = BeautifulSoup(r.text, 'html.parser')\n",
    "\n",
    "# Gets all titles in a list\n",
    "title = soup.find_all([\"h4\"], {\"class\" : \"title\"})\n",
    "link = soup.find_all([])\n",
    "for i in range(len(title)): \n",
    "        title[i] = (title[i]).text.strip() "
   ]
  },
  {
   "cell_type": "code",
   "execution_count": 148,
   "metadata": {},
   "outputs": [
    {
     "data": {
      "text/plain": [
       "[<h4 class=\"title\"><a href=\"https://video.foxnews.com/v/5977227914001/\">White House says latest Mueller filings show nothing new</a></h4>,\n",
       " <h4 class=\"title\"><a href=\"/politics/comey-transcript-bureau-brass-called-clinton-interview-unusual-email-use-appalling\">Comey transcript: Bureau brass called Clinton interview ‘unusual,’ email use ‘appalling’</a></h4>,\n",
       " <h4 class=\"title\"><a href=\"/politics/comey-says-no-indication-of-bias-from-strzok-testimony-reveals\">Comey claims he saw no 'indication of bias' from Strzok, testimony reveals</a></h4>,\n",
       " <h4 class=\"title\"><a href=\"/politics/comey-transcript-released-ex-fbi-boss-claims-not-to-know-remember-key-details-in-russia-case\">Comey transcript released: Ex-FBI boss claims not to know, remember key details in Russia case</a></h4>,\n",
       " <h4 class=\"title\"><a href=\"/politics/transcript-james-comey-interview-with-house-committees\">TRANSCRIPT: James Comey interview with House committees</a></h4>,\n",
       " <h4 class=\"title\"><a href=\"/politics/trump-says-john-kelly-to-leave\">Trump says John Kelly will be leaving at the end of the year</a></h4>,\n",
       " <h4 class=\"title\"><a href=\"/politics/fox-news-voter-analysis-democrats-win-the-house-republicans-gain-ground-in-the-senate\">Fox News Voter Analysis: Democrats win the House, Republicans gain ground in the Senate</a></h4>,\n",
       " <h4 class=\"title\"><a href=\"/politics/fox-news-voter-analysis\">Fox News Voter Analysis: Voters pleased with economy, divided on border wall</a></h4>,\n",
       " <h4 class=\"title\"><a href=\"/politics/fox-news-poll-trump-approval-remains-high-in-senate-battleground-states\">Fox News Poll: Trump approval remains high in Senate battleground states</a></h4>,\n",
       " <h4 class=\"title\"><a href=\"/politics/president-trump-health-care-drive-midterm-elections\">President Trump, health care drive midterm elections</a></h4>,\n",
       " <h4 class=\"title\"><a href=\"/politics/trump-tosses-coin-at-start-of-army-navy-football-game\">Trump tosses coin at start of Army-Navy football game</a></h4>,\n",
       " <h4 class=\"title\"><a href=\"/politics/hamas-hails-un-failure-to-condemn-rocket-attacks-as-slap-in-the-face-of-america\">Hamas hails UN failure to condemn rocket attacks as 'slap in the face of America'</a></h4>,\n",
       " <h4 class=\"title\"><a href=\"https://video.foxnews.com/v/5977179249001/\">Bret Baier on John Kelly's impact on Trump White House</a></h4>,\n",
       " <h4 class=\"title\"><a href=\"https://video.foxnews.com/v/5977178814001/\">Nick Ayers rumored to be top replacement for John Kelly</a></h4>,\n",
       " <h4 class=\"title\"><a href=\"https://video.foxnews.com/v/5977177457001/\">Is border wall funding worth a government shutdown?</a></h4>,\n",
       " <h4 class=\"title\"><a href=\"/politics/former-trump-administration-officials-a-list-of-notable-departures\">Former Trump administration officials: A list of notable departures</a></h4>,\n",
       " <h4 class=\"title\"><a href=\"/politics/who-is-john-kelly-a-look-at-trumps-white-house-chief-of-staff\">Who is John Kelly? A look at Trump's White House chief of staff</a></h4>,\n",
       " <h4 class=\"title\"><a href=\"https://video.foxnews.com/v/5977174774001/\">How will John Kelly be remembered as chief of staff?</a></h4>,\n",
       " <h4 class=\"title\"><a href=\"https://video.foxnews.com/v/5977177004001/\">Democrats overplaying response to Mueller filings?</a></h4>,\n",
       " <h4 class=\"title\"><a href=\"https://video.foxnews.com/v/5977176974001/\">Trump confirms John Kelly will leave White House</a></h4>,\n",
       " <h4 class=\"title\"><a href=\"https://video.foxnews.com/v/5977172881001/\">Rep. Biggs: FBI lawyer blocked many questions to Comey</a></h4>,\n",
       " <h4 class=\"title\"><a href=\"https://video.foxnews.com/v/5977168293001/\">Pro-Trump PAC chair blasts opposition to Nauert and Barr</a></h4>,\n",
       " <h4 class=\"title\"><a href=\"https://video.foxnews.com/v/5977164836001/\">Is Michael Cohen a reliable witness for Robert Mueller?</a></h4>,\n",
       " <h4 class=\"title\"><a href=\"https://video.foxnews.com/v/5977159703001/\">Rep. Bass on new worries about potential government shutdown</a></h4>,\n",
       " <h4 class=\"title\"><a href=\"https://video.foxnews.com/v/5977155203001/\">Rep. Kinzinger on foreign policy challenges facing US</a></h4>,\n",
       " <h4 class=\"title\"><a href=\"/politics/despite-her-gaffes-media-make-ocasio-cortez-a-beltway-superstar\">Despite her gaffes, media make Ocasio-Cortez a Beltway superstar</a></h4>,\n",
       " <h4 class=\"title\"><a href=\"/politics/why-media-will-be-crucial-in-winnowing-huge-democratic-field\">Why media will be crucial in winnowing huge Democratic field</a></h4>,\n",
       " <h4 class=\"title\"><a href=\"/politics/are-political-scandals-less-damaging-in-the-trump-era\">Are political scandals less damaging in the Trump era?</a></h4>,\n",
       " <h4 class=\"title\"><a href=\"/politics/media-elevate-bush-in-death-use-his-passing-to-denigrate-trump\">Media elevate Bush in death, use his passing to denigrate Trump</a></h4>,\n",
       " <h4 class=\"title\"><a href=\"/politics/why-michael-cohen-with-new-plea-is-no-longer-a-sideshow-in-mueller-probe\">Why Michael Cohen, with new plea, is no longer a sideshow in Mueller probe</a></h4>,\n",
       " <h4 class=\"title\"><a href=\"/politics/should-trump-be-warning-of-retaliation-over-gm-layoffs\">Should Trump be warning of retaliation over GM layoffs?</a></h4>,\n",
       " <h4 class=\"title\"><a href=\"/politics/manaforts-plea-blows-up-as-he-and-assange-deny-secret-meeting\">Manafort's plea blows up as he and Assange deny secret meeting</a></h4>,\n",
       " <h4 class=\"title\"><a href=\"/politics/violent-caravan-clash-after-media-minimized-trumps-warnings\">Violent caravan clash after media minimized Trump's warnings</a></h4>,\n",
       " <h4 class=\"title\">Trending in Politics</h4>]"
      ]
     },
     "execution_count": 148,
     "metadata": {},
     "output_type": "execute_result"
    }
   ],
   "source": [
    "soup.find_all([\"h4\"], {\"class\" : \"title\"})"
   ]
  },
  {
   "cell_type": "code",
   "execution_count": null,
   "metadata": {},
   "outputs": [],
   "source": []
  },
  {
   "cell_type": "code",
>>>>>>> Stashed changes
   "execution_count": null,
   "metadata": {},
   "outputs": [],
   "source": []
  }
 ],
 "metadata": {
  "kernelspec": {
   "display_name": "Python 3",
   "language": "python",
   "name": "python3"
  },
  "language_info": {
   "codemirror_mode": {
    "name": "ipython",
    "version": 3
   },
   "file_extension": ".py",
   "mimetype": "text/x-python",
   "name": "python",
   "nbconvert_exporter": "python",
   "pygments_lexer": "ipython3",
   "version": "3.7.0"
  }
 },
 "nbformat": 4,
 "nbformat_minor": 2
}
