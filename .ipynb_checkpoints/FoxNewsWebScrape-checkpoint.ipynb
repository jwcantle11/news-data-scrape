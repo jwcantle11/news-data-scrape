{
 "cells": [
  {
   "cell_type": "code",
   "execution_count": 1,
   "metadata": {},
   "outputs": [],
   "source": [
    "from bs4 import BeautifulSoup\n",
    "import requests\n",
    "import re\n",
    "import pandas as pd"
   ]
  },
  {
   "cell_type": "code",
   "execution_count": 2,
   "metadata": {},
   "outputs": [],
   "source": [
    "html_doc = requests.get('https://www.foxnews.com/politics')\n",
    "soup = BeautifulSoup(html_doc.text, 'html.parser')"
   ]
  },
  {
   "cell_type": "code",
   "execution_count": 19,
   "metadata": {},
   "outputs": [
    {
     "name": "stdout",
     "output_type": "stream",
     "text": [
      "5 hours ago\n",
      "/politics/trump-says-john-kelly-to-leave\n",
      "5 hours ago\n",
      "/politics/trump-tosses-coin-at-start-of-army-navy-football-game\n",
      "5 hours ago\n",
      "/politics/hamas-hails-un-failure-to-condemn-rocket-attacks-as-slap-in-the-face-of-america\n",
      "7 hours ago\n",
      "https://video.foxnews.com/v/5977179249001/\n",
      "7 hours ago\n",
      "https://video.foxnews.com/v/5977178814001/\n",
      "7 hours ago\n",
      "https://video.foxnews.com/v/5977177457001/\n",
      "7 hours ago\n",
      "/politics/former-trump-administration-officials-a-list-of-notable-departures\n",
      "7 hours ago\n",
      "/politics/who-is-john-kelly-a-look-at-trumps-white-house-chief-of-staff\n",
      "7 hours ago\n",
      "https://video.foxnews.com/v/5977174774001/\n",
      "7 hours ago\n",
      "https://video.foxnews.com/v/5977177004001/\n",
      "8 hours ago\n",
      "https://video.foxnews.com/v/5977176974001/\n",
      "8 hours ago\n",
      "https://video.foxnews.com/v/5977172881001/\n",
      "8 hours ago\n",
      "https://video.foxnews.com/v/5977168293001/\n",
      "8 hours ago\n",
      "https://video.foxnews.com/v/5977164836001/\n",
      "9 hours ago\n",
      "https://video.foxnews.com/v/5977159703001/\n"
     ]
    }
   ],
   "source": [
    "articleList = soup.find('section', {'class': \"collection collection-article-list has-load-more\"})\n",
    "articles = articleList.findAll('article')\n",
    "#TODO click on see more\n",
    "for article in articles:\n",
    "    linkHTML = article.find('a')\n",
    "    articleTime = article.find('span', {'class': 'time'}).text\n",
    "    print(articleTime)\n",
    "    #if 'day'in articleTime or 'days' in articleTime\n",
    "    link = linkHTML['href']\n",
    "    print(link)"
   ]
  },
  {
   "cell_type": "code",
   "execution_count": null,
   "metadata": {},
   "outputs": [],
   "source": []
  }
 ],
 "metadata": {
  "kernelspec": {
   "display_name": "Python 3",
   "language": "python",
   "name": "python3"
  },
  "language_info": {
   "codemirror_mode": {
    "name": "ipython",
    "version": 3
   },
   "file_extension": ".py",
   "mimetype": "text/x-python",
   "name": "python",
   "nbconvert_exporter": "python",
   "pygments_lexer": "ipython3",
   "version": "3.7.0"
  }
 },
 "nbformat": 4,
 "nbformat_minor": 2
}
