{
 "cells": [
  {
   "cell_type": "code",
   "execution_count": 1,
   "metadata": {},
   "outputs": [],
   "source": [
    "import requests\n",
    "# Imports regular expressions package \n",
    "import re\n",
    "# Imports csv package to create csv files \n",
    "import csv\n",
    "# Import BeautifulSoup to parse HTML\n",
    "from bs4 import BeautifulSoup\n"
   ]
  },
  {
   "cell_type": "code",
   "execution_count": 83,
   "metadata": {},
   "outputs": [
    {
     "data": {
      "text/plain": [
       "[<div class=\"info\"><div class=\"location\"></div><div class=\"condition\"><span class=\"icon\"></span></div></div>,\n",
       " <div class=\"info\"><header class=\"info-header\"><div class=\"meta\"><span class=\"eyebrow\"><a href=\"/category/politics/executive/white-house\">White House</a></span><span class=\"time\">4 hours ago</span></div><h2 class=\"title\"><a href=\"/politics/trump-says-john-kelly-to-leave\">Trump says John Kelly will be leaving at the end of the year</a></h2></header><div class=\"content\"><p class=\"dek\"><a href=\"/politics/trump-says-john-kelly-to-leave\">President Trump on Saturday said that White House Chief of Staff John Kelly will leave the White House at the end of the year.</a></p><div class=\"related\"><ul></ul></div></div></div>,\n",
       " <div class=\"info\"><header class=\"info-header\"><div class=\"meta\"><span class=\"eyebrow\"><a href=\"/category/politics/2020-presidential-election\">2020 Presidential Election</a></span><span class=\"time\">9 hours ago</span></div><h2 class=\"title\"><a href=\"/politics/cory-booker-travels-to-new-hampshire-as-2020-speculation-heats-up\">Cory Booker travels to New Hampshire as 2020 talk heats up</a></h2></header><div class=\"content\"><p class=\"dek\"><a href=\"/politics/cory-booker-travels-to-new-hampshire-as-2020-speculation-heats-up\">Sen. Cory Booker, D-NJ, is visiting New Hampshire on Saturday -- a move likely to fuel further speculation that the theatrical senator is mulling a presidential run in 2020.</a></p><div class=\"related\"><ul></ul></div></div></div>,\n",
       " <div class=\"info\"><header class=\"info-header\"><div class=\"meta\"><span class=\"eyebrow\"><a href=\"/category/world/united-nations\">UNITED NATIONS</a></span><span class=\"time\">5 hours ago</span></div><h2 class=\"title\"><a href=\"/politics/hamas-hails-un-failure-to-condemn-rocket-attacks-as-slap-in-the-face-of-america\">Hamas hails UN failure to condemn rocket attacks as 'slap in the face of America'</a></h2></header><div class=\"content\"><p class=\"dek\"><a href=\"/politics/hamas-hails-un-failure-to-condemn-rocket-attacks-as-slap-in-the-face-of-america\">The Palestinian terror group Hamas is taunting the U.S. after the U.N. failed this week to adopt a U.S. resolution condemning the militant group’s rocket attacks against Israel.</a></p><div class=\"related\"><ul></ul></div></div></div>,\n",
       " <div class=\"info\"><header class=\"info-header\"><div class=\"meta\"><!-- --><div><span class=\"eyebrow\"><a href=\"https://video.foxnews.com/v/\">VIDEO</a></span><span class=\"time\">26 mins ago</span></div></div><h4 class=\"title\"><a href=\"https://video.foxnews.com/v/5977227914001/\">White House says latest Mueller filings show nothing new</a></h4></header><div class=\"content\"><p class=\"dek\"><a href=\"https://video.foxnews.com/v/5977227914001/\">Reaction from Dr. Sebastian Gorka, Fox News national security strategist, and Sara Carter, Fox News contributor.</a></p></div><!-- --></div>,\n",
       " <div class=\"info\"><header class=\"info-header\"><div class=\"meta\"><!-- --><div><span class=\"eyebrow\"><a href=\"/category/politics/the-clintons\">THE CLINTONS</a></span><span class=\"time\">51 mins ago</span></div></div><h4 class=\"title\"><a href=\"/politics/comey-transcript-bureau-brass-called-clinton-interview-unusual-email-use-appalling\">Comey transcript: Bureau brass called Clinton interview ‘unusual,’ email use ‘appalling’</a></h4></header><div class=\"content\"><p class=\"dek\"><a href=\"/politics/comey-transcript-bureau-brass-called-clinton-interview-unusual-email-use-appalling\">The lengthy transcript released Saturday of James Comey’s closed-door interview with congressional lawmakers showed the former FBI director called certain aspects of the Hillary Clinton email case “unusual” – and revealed a former bureau lawyer called her handling of classified information “appalling.”</a></p></div><!-- --></div>,\n",
       " <div class=\"info\"><header class=\"info-header\"><div class=\"meta\"><!-- --><div><span class=\"eyebrow\"><a href=\"/category/newsedge/politics\">Politics</a></span><span class=\"time\">1 hour ago</span></div></div><h4 class=\"title\"><a href=\"/politics/comey-says-no-indication-of-bias-from-strzok-testimony-reveals\">Comey claims he saw no 'indication of bias' from Strzok, testimony reveals</a></h4></header><div class=\"content\"><p class=\"dek\"><a href=\"/politics/comey-says-no-indication-of-bias-from-strzok-testimony-reveals\">Former FBI Director James Comey told House lawmakers on Friday he never saw “any indication at all of bias” between disgraced FBI agent Peter Strzok and lawyer Lisa Page, adding he didn’t believe Strzok was “Team Clinton,\" a lengthy transcript of his testimony revealed.</a></p></div><!-- --></div>,\n",
       " <div class=\"info\"><header class=\"info-header\"><div class=\"meta\"><!-- --><div><span class=\"eyebrow\"><a href=\"/category/politics\">POLITICS</a></span><span class=\"time\">2 hours ago</span></div></div><h4 class=\"title\"><a href=\"/politics/comey-transcript-released-ex-fbi-boss-claims-not-to-know-remember-key-details-in-russia-case\">Comey transcript released: Ex-FBI boss claims not to know, remember key details in Russia case</a></h4></header><div class=\"content\"><p class=\"dek\"><a href=\"/politics/comey-transcript-released-ex-fbi-boss-claims-not-to-know-remember-key-details-in-russia-case\">Former FBI Director James Comey claimed “I don’t know” or “I don’t remember” in response to dozens of questions concerning key details in the Russia probe, according to a lengthy transcript released Saturday of his closed-door interview with congressional lawmakers.</a></p></div><!-- --></div>,\n",
       " <div class=\"info\"><header class=\"info-header\"><div class=\"meta\"><!-- --><div><span class=\"eyebrow\"><a href=\"/politics\">Politics</a></span><span class=\"time\">3 hours ago</span></div></div><h4 class=\"title\"><a href=\"/politics/transcript-james-comey-interview-with-house-committees\">TRANSCRIPT: James Comey interview with House committees</a></h4></header><div class=\"content\"><p class=\"dek\"><a href=\"/politics/transcript-james-comey-interview-with-house-committees\">Transcript of James Comey's interview with the House judiciary and oversight committees.</a></p></div><!-- --></div>,\n",
       " <div class=\"info\"><header class=\"info-header\"><div class=\"meta\"><!-- --><div><span class=\"eyebrow\"><a href=\"/category/politics/executive/white-house\">White House</a></span><span class=\"time\">4 hours ago</span></div></div><h4 class=\"title\"><a href=\"/politics/trump-says-john-kelly-to-leave\">Trump says John Kelly will be leaving at the end of the year</a></h4></header><div class=\"content\"><p class=\"dek\"><a href=\"/politics/trump-says-john-kelly-to-leave\">President Trump on Saturday said that White House Chief of Staff John Kelly will leave the White House at the end of the year.</a></p></div><!-- --></div>,\n",
       " <div class=\"info\"><header class=\"info-header\"><div class=\"meta\"><span class=\"eyebrow\"><a href=\"/category/politics/elections/midterm-elections\">Midterm Elections</a></span><span class=\"time\">November 7</span></div><h4 class=\"title\"><a href=\"/politics/fox-news-voter-analysis-democrats-win-the-house-republicans-gain-ground-in-the-senate\">Fox News Voter Analysis: Democrats win the House, Republicans gain ground in the Senate</a></h4></header></div>,\n",
       " <div class=\"info\"><header class=\"info-header\"><div class=\"meta\"><span class=\"eyebrow\"><a href=\"/category/politics/elections/midterm-elections\">Midterm Elections</a></span><span class=\"time\">November 6</span></div><h4 class=\"title\"><a href=\"/politics/fox-news-voter-analysis\">Fox News Voter Analysis: Voters pleased with economy, divided on border wall</a></h4></header></div>,\n",
       " <div class=\"info\"><header class=\"info-header\"><div class=\"meta\"><span class=\"eyebrow\"><a href=\"/category/columns/fox-news-poll\">Fox News Poll</a></span><span class=\"time\">October 31</span></div><h4 class=\"title\"><a href=\"/politics/fox-news-poll-trump-approval-remains-high-in-senate-battleground-states\">Fox News Poll: Trump approval remains high in Senate battleground states</a></h4></header></div>,\n",
       " <div class=\"info\"><header class=\"info-header\"><div class=\"meta\"><span class=\"eyebrow\"><a href=\"/category/columns/fox-news-poll\">Fox News Poll</a></span><span class=\"time\">October 17</span></div><h4 class=\"title\"><a href=\"/politics/president-trump-health-care-drive-midterm-elections\">President Trump, health care drive midterm elections</a></h4></header></div>,\n",
       " <div class=\"info\"><header class=\"info-header\"><div class=\"meta\"><!-- --><div><!-- --><span class=\"time\">4 hours ago</span></div></div><h4 class=\"title\"><a href=\"/politics/trump-tosses-coin-at-start-of-army-navy-football-game\">Trump tosses coin at start of Army-Navy football game</a></h4></header><div class=\"content\"><p class=\"dek\"><a href=\"/politics/trump-tosses-coin-at-start-of-army-navy-football-game\">President Donald Trump mixed politics and sports Saturday, announcing the departure of his chief of staff before settling in for Army-Navy football game.</a></p></div><!-- --></div>,\n",
       " <div class=\"info\"><header class=\"info-header\"><div class=\"meta\"><!-- --><div><!-- --><span class=\"time\">5 hours ago</span></div></div><h4 class=\"title\"><a href=\"/politics/hamas-hails-un-failure-to-condemn-rocket-attacks-as-slap-in-the-face-of-america\">Hamas hails UN failure to condemn rocket attacks as 'slap in the face of America'</a></h4></header><div class=\"content\"><p class=\"dek\"><a href=\"/politics/hamas-hails-un-failure-to-condemn-rocket-attacks-as-slap-in-the-face-of-america\">The Palestinian terror group Hamas is taunting the U.S. after the U.N. failed this week to adopt a U.S. resolution condemning the militant group’s rocket attacks against Israel.</a></p></div><!-- --></div>,\n",
       " <div class=\"info\"><header class=\"info-header\"><div class=\"meta\"><!-- --><div><!-- --><span class=\"time\">6 hours ago</span></div></div><h4 class=\"title\"><a href=\"https://video.foxnews.com/v/5977179249001/\">Bret Baier on John Kelly's impact on Trump White House</a></h4></header><div class=\"content\"><p class=\"dek\"><a href=\"https://video.foxnews.com/v/5977179249001/\">John Kelly brought to needed discipline to the Trump White House, but also ruffled feathers, says Fox News chief political anchor Bret Baier.</a></p></div><!-- --></div>,\n",
       " <div class=\"info\"><header class=\"info-header\"><div class=\"meta\"><!-- --><div><!-- --><span class=\"time\">6 hours ago</span></div></div><h4 class=\"title\"><a href=\"https://video.foxnews.com/v/5977178814001/\">Nick Ayers rumored to be top replacement for John Kelly</a></h4></header><div class=\"content\"><p class=\"dek\"><a href=\"https://video.foxnews.com/v/5977178814001/\">The current chief of staff to Vice President Mike Pence is said to be the leading candidate to become President Trump's next White House chief of staff; Ellison Barber reports from the White House.</a></p></div><!-- --></div>,\n",
       " <div class=\"info\"><header class=\"info-header\"><div class=\"meta\"><!-- --><div><!-- --><span class=\"time\">6 hours ago</span></div></div><h4 class=\"title\"><a href=\"https://video.foxnews.com/v/5977177457001/\">Is border wall funding worth a government shutdown?</a></h4></header><div class=\"content\"><p class=\"dek\"><a href=\"https://video.foxnews.com/v/5977177457001/\">Congress temporarily averts shutdown, postpones fight over funding Trump's border wall; insight from Rep. Michael Burgess, Republican congressman from Texas.</a></p></div><!-- --></div>,\n",
       " <div class=\"info\"><header class=\"info-header\"><div class=\"meta\"><!-- --><div><!-- --><span class=\"time\">6 hours ago</span></div></div><h4 class=\"title\"><a href=\"/politics/former-trump-administration-officials-a-list-of-notable-departures\">Former Trump administration officials: A list of notable departures</a></h4></header><div class=\"content\"><p class=\"dek\"><a href=\"/politics/former-trump-administration-officials-a-list-of-notable-departures\">From the White House chief of staff to the FBI director, from leaving for a new job to learning of his firing from a television, here’s a running list of those who have left the Trump administration.</a></p></div><!-- --></div>,\n",
       " <div class=\"info\"><header class=\"info-header\"><div class=\"meta\"><!-- --><div><!-- --><span class=\"time\">7 hours ago</span></div></div><h4 class=\"title\"><a href=\"/politics/who-is-john-kelly-a-look-at-trumps-white-house-chief-of-staff\">Who is John Kelly? A look at Trump's White House chief of staff</a></h4></header><div class=\"content\"><p class=\"dek\"><a href=\"/politics/who-is-john-kelly-a-look-at-trumps-white-house-chief-of-staff\">From John Kelly's extensive military career to his time hitchhiking across the country, here are five things to know about President Trump's White House chief of staff.</a></p></div><!-- --></div>,\n",
       " <div class=\"info\"><header class=\"info-header\"><div class=\"meta\"><!-- --><div><!-- --><span class=\"time\">7 hours ago</span></div></div><h4 class=\"title\"><a href=\"https://video.foxnews.com/v/5977174774001/\">How will John Kelly be remembered as chief of staff?</a></h4></header><div class=\"content\"><p class=\"dek\"><a href=\"https://video.foxnews.com/v/5977174774001/\">President Trump says White House chief of staff John Kelly will leave his job at end of the year; Eric Beach, co-chair of Great America PAC, and former Ohio state Senator Capri Cafaro join the debate.</a></p></div><!-- --></div>,\n",
       " <div class=\"info\"><header class=\"info-header\"><div class=\"meta\"><!-- --><div><!-- --><span class=\"time\">7 hours ago</span></div></div><h4 class=\"title\"><a href=\"https://video.foxnews.com/v/5977177004001/\">Democrats overplaying response to Mueller filings?</a></h4></header><div class=\"content\"><p class=\"dek\"><a href=\"https://video.foxnews.com/v/5977177004001/\">Democrats would be making a mistake to go down the 'impeachment road' prematurely, says Democratic strategist Blake Rutherford.</a></p></div><!-- --></div>,\n",
       " <div class=\"info\"><header class=\"info-header\"><div class=\"meta\"><!-- --><div><!-- --><span class=\"time\">7 hours ago</span></div></div><h4 class=\"title\"><a href=\"https://video.foxnews.com/v/5977176974001/\">Trump confirms John Kelly will leave White House</a></h4></header><div class=\"content\"><p class=\"dek\"><a href=\"https://video.foxnews.com/v/5977176974001/\">President Trump says White House chief of staff John Kelly will leave his job at end of the year.</a></p></div><!-- --></div>,\n",
       " <div class=\"info\"><header class=\"info-header\"><div class=\"meta\"><!-- --><div><!-- --><span class=\"time\">7 hours ago</span></div></div><h4 class=\"title\"><a href=\"https://video.foxnews.com/v/5977172881001/\">Rep. Biggs: FBI lawyer blocked many questions to Comey</a></h4></header><div class=\"content\"><p class=\"dek\"><a href=\"https://video.foxnews.com/v/5977172881001/\">Former FBI Director James Comey was prevented from answering some key questions during his closed-door interview with House lawmakers, says Rep. Andy Biggs, Republican member of the House Judiciary Committee.</a></p></div><!-- --></div>,\n",
       " <div class=\"info\"><header class=\"info-header\"><div class=\"meta\"><!-- --><div><!-- --><span class=\"time\">8 hours ago</span></div></div><h4 class=\"title\"><a href=\"https://video.foxnews.com/v/5977168293001/\">Pro-Trump PAC chair blasts opposition to Nauert and Barr</a></h4></header><div class=\"content\"><p class=\"dek\"><a href=\"https://video.foxnews.com/v/5977168293001/\">Democrats have no reason to oppose the nominations of Heather Nauert and William Barr, says Ted Harvey, chairman of the Committee to Defend the President.</a></p></div><!-- --></div>,\n",
       " <div class=\"info\"><header class=\"info-header\"><div class=\"meta\"><!-- --><div><!-- --><span class=\"time\">8 hours ago</span></div></div><h4 class=\"title\"><a href=\"https://video.foxnews.com/v/5977164836001/\">Is Michael Cohen a reliable witness for Robert Mueller?</a></h4></header><div class=\"content\"><p class=\"dek\"><a href=\"https://video.foxnews.com/v/5977164836001/\">Federal prosecutors recommended a 'substantial term of imprisonment' for President Trump's former personal attorney Michael Cohen; analysis from Bob Driscoll, former deputy assistant attorney general.</a></p></div><!-- --></div>,\n",
       " <div class=\"info\"><header class=\"info-header\"><div class=\"meta\"><!-- --><div><!-- --><span class=\"time\">9 hours ago</span></div></div><h4 class=\"title\"><a href=\"https://video.foxnews.com/v/5977159703001/\">Rep. Bass on new worries about potential government shutdown</a></h4></header><div class=\"content\"><p class=\"dek\"><a href=\"https://video.foxnews.com/v/5977159703001/\">Congress passes temporary spending plan that expires in two weeks; reaction from Congressional Black Caucus chair-elect Karen Bass.</a></p></div><!-- --></div>,\n",
       " <div class=\"info\"><header class=\"info-header\"><div class=\"meta\"><!-- --><div><!-- --><span class=\"time\">9 hours ago</span></div></div><h4 class=\"title\"><a href=\"https://video.foxnews.com/v/5977155203001/\">Rep. Kinzinger on foreign policy challenges facing US</a></h4></header><div class=\"content\"><p class=\"dek\"><a href=\"https://video.foxnews.com/v/5977155203001/\">Tensions rise between U.S. and Russia over Ukraine as new satellite imagery shows activity at North Korean missile site.</a></p></div><!-- --></div>,\n",
       " <div class=\"info\"><header class=\"info-header\"><div class=\"meta\"><!-- --><div><span class=\"eyebrow\"><a href=\"/category/columns/media-buzz\">Media Buzz</a></span><span class=\"time\">1 day ago</span></div></div><h4 class=\"title\"><a href=\"/politics/despite-her-gaffes-media-make-ocasio-cortez-a-beltway-superstar\">Despite her gaffes, media make Ocasio-Cortez a Beltway superstar</a></h4></header><div class=\"content\"><!-- --></div><!-- --></div>,\n",
       " <div class=\"info\"><header class=\"info-header\"><div class=\"meta\"><!-- --><div><span class=\"eyebrow\"><a href=\"/category/columns/media-buzz\">Media Buzz</a></span><span class=\"time\">2 days ago</span></div></div><h4 class=\"title\"><a href=\"/politics/why-media-will-be-crucial-in-winnowing-huge-democratic-field\">Why media will be crucial in winnowing huge Democratic field</a></h4></header><div class=\"content\"><!-- --></div><!-- --></div>,\n",
       " <div class=\"info\"><header class=\"info-header\"><div class=\"meta\"><!-- --><div><span class=\"eyebrow\"><a href=\"/category/columns/media-buzz\">Media Buzz</a></span><span class=\"time\">3 days ago</span></div></div><h4 class=\"title\"><a href=\"/politics/are-political-scandals-less-damaging-in-the-trump-era\">Are political scandals less damaging in the Trump era?</a></h4></header><div class=\"content\"><!-- --></div><!-- --></div>,\n",
       " <div class=\"info\"><header class=\"info-header\"><div class=\"meta\"><!-- --><div><span class=\"eyebrow\"><a href=\"/category/columns/media-buzz\">Media Buzz</a></span><span class=\"time\">4 days ago</span></div></div><h4 class=\"title\"><a href=\"/politics/media-elevate-bush-in-death-use-his-passing-to-denigrate-trump\">Media elevate Bush in death, use his passing to denigrate Trump</a></h4></header><div class=\"content\"><!-- --></div><!-- --></div>,\n",
       " <div class=\"info\"><header class=\"info-header\"><div class=\"meta\"><!-- --><div><span class=\"eyebrow\"><a href=\"/category/columns/media-buzz\">Media Buzz</a></span><span class=\"time\">November 30</span></div></div><h4 class=\"title\"><a href=\"/politics/why-michael-cohen-with-new-plea-is-no-longer-a-sideshow-in-mueller-probe\">Why Michael Cohen, with new plea, is no longer a sideshow in Mueller probe</a></h4></header><div class=\"content\"><!-- --></div><!-- --></div>,\n",
       " <div class=\"info\"><header class=\"info-header\"><div class=\"meta\"><!-- --><div><span class=\"eyebrow\"><a href=\"/category/columns/media-buzz\">Media Buzz</a></span><span class=\"time\">November 29</span></div></div><h4 class=\"title\"><a href=\"/politics/should-trump-be-warning-of-retaliation-over-gm-layoffs\">Should Trump be warning of retaliation over GM layoffs?</a></h4></header><div class=\"content\"><!-- --></div><!-- --></div>,\n",
       " <div class=\"info\"><header class=\"info-header\"><div class=\"meta\"><!-- --><div><span class=\"eyebrow\"><a href=\"/category/columns/media-buzz\">Media Buzz</a></span><span class=\"time\">November 28</span></div></div><h4 class=\"title\"><a href=\"/politics/manaforts-plea-blows-up-as-he-and-assange-deny-secret-meeting\">Manafort's plea blows up as he and Assange deny secret meeting</a></h4></header><div class=\"content\"><!-- --></div><!-- --></div>,\n",
       " <div class=\"info\"><header class=\"info-header\"><div class=\"meta\"><!-- --><div><span class=\"eyebrow\"><a href=\"/category/columns/media-buzz\">Media Buzz</a></span><span class=\"time\">November 27</span></div></div><h4 class=\"title\"><a href=\"/politics/violent-caravan-clash-after-media-minimized-trumps-warnings\">Violent caravan clash after media minimized Trump's warnings</a></h4></header><div class=\"content\"><!-- --></div><!-- --></div>,\n",
       " <div class=\"info\"><h5 class=\"title\"><a href=\"https://www.foxnews.com/politics/comey-transcript-bureau-brass-called-clinton-interview-unusual-email-use-appalling\">Comey transcript: Bureau brass called Clinton interview ‘unusual,’ email use ‘appalling’</a></h5><div class=\"meta\"><!-- --><!-- --></div></div>,\n",
       " <div class=\"info\"><h5 class=\"title\"><a href=\"https://www.foxnews.com/politics/comey-says-no-indication-of-bias-from-strzok-testimony-reveals\">Comey claims he saw no 'indication of bias' from Strzok, testimony reveals</a></h5><div class=\"meta\"><!-- --><!-- --></div></div>,\n",
       " <div class=\"info\"><h5 class=\"title\"><a href=\"https://www.foxnews.com/politics/transcript-james-comey-interview-with-house-committees\">TRANSCRIPT: James Comey interview with House committees</a></h5><div class=\"meta\"><!-- --><!-- --></div></div>,\n",
       " <div class=\"info\"><h5 class=\"title\"><a href=\"https://www.foxnews.com/politics/comey-transcript-released-ex-fbi-boss-claims-not-to-know-remember-key-details-in-russia-case\">Comey transcript released: Ex-FBI boss claims not to know, remember key details in Russia case</a></h5><div class=\"meta\"><!-- --><!-- --></div></div>]"
      ]
     },
     "execution_count": 83,
     "metadata": {},
     "output_type": "execute_result"
    }
   ],
   "source": [
    "\n",
    "# Request webpage information\n",
    "r = requests.get('https://www.foxnews.com/politics')\n",
    "soup = BeautifulSoup(r.text, 'html.parser')\n",
    "\n",
    "# Gets all titles in a list\n",
    "allTitle = []\n",
    "\n",
    "title = soup.find_all([\"div\"], {\"class\" : \"info\"})\n",
    "for i in range(len(title)): \n",
    "    allTitle.append((title[i]).text.strip())\n",
    "    \n",
    "link = []\n",
    "article_title = []\n",
    "time_posted = []\n",
    "\n",
    "for i in range (len(title)):\n",
    "    link.append(title[i].find_all([\"span\"], {\"class\" : \"time\"})[0].text)\n",
    "    article_title.append(title[i].find([\"a\"])[0].text))\n",
    "    \n",
    "    \n",
    " "
   ]
  },
  {
   "cell_type": "code",
   "execution_count": 88,
   "metadata": {},
   "outputs": [
    {
     "data": {
      "text/plain": [
       "'4 hours ago'"
      ]
     },
     "execution_count": 88,
     "metadata": {},
     "output_type": "execute_result"
    }
   ],
   "source": [
    "title[1].find_all([\"span\"], {\"class\" : \"time\"})[0].text"
   ]
  },
  {
   "cell_type": "code",
   "execution_count": 65,
   "metadata": {},
   "outputs": [
    {
     "data": {
      "text/plain": [
       "''"
      ]
     },
     "execution_count": 65,
     "metadata": {},
     "output_type": "execute_result"
    }
   ],
   "source": []
  },
  {
   "cell_type": "code",
   "execution_count": null,
   "metadata": {},
   "outputs": [],
   "source": []
  },
  {
   "cell_type": "code",
   "execution_count": null,
   "metadata": {},
   "outputs": [],
   "source": []
  }
 ],
 "metadata": {
  "kernelspec": {
   "display_name": "Python 3",
   "language": "python",
   "name": "python3"
  },
  "language_info": {
   "codemirror_mode": {
    "name": "ipython",
    "version": 3
   },
   "file_extension": ".py",
   "mimetype": "text/x-python",
   "name": "python",
   "nbconvert_exporter": "python",
   "pygments_lexer": "ipython3",
   "version": "3.7.0"
  }
 },
 "nbformat": 4,
 "nbformat_minor": 2
}
